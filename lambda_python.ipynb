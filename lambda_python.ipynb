{
 "cells": [
  {
   "cell_type": "code",
   "execution_count": 1,
   "id": "234f5f52-5e1e-48ab-b77c-55363c104ba3",
   "metadata": {},
   "outputs": [],
   "source": [
    "### lambda: funcao que vc nao precisa defini-la"
   ]
  },
  {
   "cell_type": "code",
   "execution_count": 2,
   "id": "3ed0972c-f486-4ab9-9077-0d25343ae0e1",
   "metadata": {},
   "outputs": [],
   "source": [
    "## ex: calcular o imposto de um servico. O imposto é 30% do valor do preço do serviço "
   ]
  },
  {
   "cell_type": "code",
   "execution_count": 3,
   "id": "f020b548-f6a4-47bc-930b-b6fc4c5d750e",
   "metadata": {},
   "outputs": [
    {
     "data": {
      "text/plain": [
       "300.0"
      ]
     },
     "execution_count": 3,
     "metadata": {},
     "output_type": "execute_result"
    }
   ],
   "source": [
    "# fazer uma funcao tradiiconal\n",
    "\n",
    "preco = 1000\n",
    "\n",
    "def calcular_imposto(preco):\n",
    "    return preco*0.3\n",
    "\n",
    "calcular_imposto(preco)"
   ]
  },
  {
   "cell_type": "code",
   "execution_count": 4,
   "id": "976329ed-d3ee-42ce-a00c-53c5f3e26fff",
   "metadata": {},
   "outputs": [],
   "source": [
    "# agora com lambda\n",
    "\n",
    "# trocar nome da funcao pela igualdade\n",
    "# trocar def por lambda\n",
    "# trocar entrada que estava entre parenteses na funcao pelo que vem antes dos :\n",
    "# trocar saida pelo que vem apos os :"
   ]
  },
  {
   "cell_type": "code",
   "execution_count": 5,
   "id": "e0da510d-d499-4d20-96a6-8bd4d6a95d98",
   "metadata": {},
   "outputs": [
    {
     "data": {
      "text/plain": [
       "300.0"
      ]
     },
     "execution_count": 5,
     "metadata": {},
     "output_type": "execute_result"
    }
   ],
   "source": [
    "calcular_imposto_2 = lambda preco: preco*0.3\n",
    "calcular_imposto_2(preco)"
   ]
  },
  {
   "cell_type": "code",
   "execution_count": 6,
   "id": "372911da-4fbe-41ad-896b-aa05ec39b4c0",
   "metadata": {},
   "outputs": [],
   "source": [
    "### suponha que agora ao inves de um unico preco eu tenha uma lista de precos\n",
    "\n",
    "# podemos usar o map. Map recebe uma funcao e uma lista, entao ele aplica essa funcao a cada um dos elementos dessa lista"
   ]
  },
  {
   "cell_type": "code",
   "execution_count": 7,
   "id": "977c5a08-b152-4e2e-8f2c-9376889f2410",
   "metadata": {},
   "outputs": [
    {
     "data": {
      "text/plain": [
       "[300.0, 600.0, 900.0]"
      ]
     },
     "execution_count": 7,
     "metadata": {},
     "output_type": "execute_result"
    }
   ],
   "source": [
    "precos = [1000,2000,3000]\n",
    "\n",
    "impostos = list(map(lambda x: x*0.3, precos))\n",
    "impostos"
   ]
  },
  {
   "cell_type": "code",
   "execution_count": null,
   "id": "4c006bd7-bd73-490c-b8d3-87fb23009742",
   "metadata": {},
   "outputs": [],
   "source": []
  }
 ],
 "metadata": {
  "kernelspec": {
   "display_name": "Python 3 (ipykernel)",
   "language": "python",
   "name": "python3"
  },
  "language_info": {
   "codemirror_mode": {
    "name": "ipython",
    "version": 3
   },
   "file_extension": ".py",
   "mimetype": "text/x-python",
   "name": "python",
   "nbconvert_exporter": "python",
   "pygments_lexer": "ipython3",
   "version": "3.10.2"
  }
 },
 "nbformat": 4,
 "nbformat_minor": 5
}
